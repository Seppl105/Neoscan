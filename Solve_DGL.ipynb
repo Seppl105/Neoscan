{
 "cells": [
  {
   "cell_type": "code",
   "execution_count": 2,
   "id": "initial_id",
   "metadata": {
    "collapsed": true,
    "ExecuteTime": {
     "end_time": "2024-06-13T21:21:08.008774700Z",
     "start_time": "2024-06-13T21:21:07.967373400Z"
    }
   },
   "outputs": [],
   "source": [
    "import sympy as sp"
   ]
  },
  {
   "cell_type": "code",
   "execution_count": 9,
   "outputs": [],
   "source": [
    "import sympy as sp\n",
    "\n",
    "def solve_dgl(a, b, f, r):\n",
    "    \"\"\"\n",
    "    Löse eine gewöhnliche Differentialgleichung 2. Ordnung der Form:\n",
    "    a(r)*u''(r) + b(r)*u'(r) + f(r) = 0\n",
    "    \n",
    "    Parameter:\n",
    "    a, b, f: Funktionen von r\n",
    "    r: Unabhängige Variable (Symbol)\n",
    "    \n",
    "    Rückgabe:\n",
    "    Die allgemeine Lösung der DGL.\n",
    "    \"\"\"\n",
    "    \n",
    "    # Definiere die Funktion u(r)\n",
    "    u = sp.Function('u')(r)\n",
    "    \n",
    "    # Definiere die DGL\n",
    "    dgl = a * u.diff(r, r) + b * u.diff(r) - f\n",
    "    \n",
    "    # Löse die DGL\n",
    "    solution = sp.dsolve(dgl, u)\n",
    "    \n",
    "    return solution"
   ],
   "metadata": {
    "collapsed": false,
    "ExecuteTime": {
     "end_time": "2024-06-13T21:43:17.623282900Z",
     "start_time": "2024-06-13T21:43:17.611469200Z"
    }
   },
   "id": "5a97e852294f356"
  },
  {
   "cell_type": "code",
   "execution_count": 10,
   "outputs": [
    {
     "name": "stdout",
     "output_type": "stream",
     "text": [
      "                -5.66666666666667                         2.0                 \n",
      "u(r) = C₁ + C₂⋅r                  - 4.02399257688229e-11⋅r    - 3.869606003752\n",
      "\n",
      "        3.0\n",
      "35e-11⋅r   \n"
     ]
    }
   ],
   "source": [
    "# Definiere die Symbole\n",
    "r = sp.symbols('r')\n",
    "u = sp.Function('u')(r)\n",
    "\n",
    "# Beispiel-DGL: x^2*y''(x) - x*y'(x) + y(x) = sin(x)\n",
    "b_a = -2.5  # [T]\n",
    "b_i = 14    # [T]\n",
    "r_a = 0.646 # [m]\n",
    "r_i = 0.430 # [m]\n",
    "m = (b_a - b_i) / (r_a - r_i)\n",
    "b_0 = b_a - (b_a - b_i) / (r_a - r_i) * r_a # [T]\n",
    "\n",
    "E = 205 * 10**9 # [N/mm^2]\n",
    "ny = 0.35       # [-]\n",
    "\n",
    "mu = E / (2 * (1 + ny))\n",
    "ld = (E * ny) / ((1 + ny) * (1 - 2 * ny))\n",
    "\n",
    "a = mu\n",
    "b = (ld + mu) * 2 / r\n",
    "f = m * r - b_0\n",
    "\n",
    "# Löse die DGL\n",
    "solution = solve_dgl(a, b, f, r)\n",
    "\n",
    "# Ergebnis anzeigen\n",
    "sp.pprint(solution)\n"
   ],
   "metadata": {
    "collapsed": false,
    "ExecuteTime": {
     "end_time": "2024-06-13T21:43:22.148703200Z",
     "start_time": "2024-06-13T21:43:21.055710300Z"
    }
   },
   "id": "a5cbd641f5a0c1a6"
  },
  {
   "cell_type": "code",
   "execution_count": null,
   "outputs": [],
   "source": [],
   "metadata": {
    "collapsed": false
   },
   "id": "90462b6767db4770"
  }
 ],
 "metadata": {
  "kernelspec": {
   "display_name": "Python 3",
   "language": "python",
   "name": "python3"
  },
  "language_info": {
   "codemirror_mode": {
    "name": "ipython",
    "version": 2
   },
   "file_extension": ".py",
   "mimetype": "text/x-python",
   "name": "python",
   "nbconvert_exporter": "python",
   "pygments_lexer": "ipython2",
   "version": "2.7.6"
  }
 },
 "nbformat": 4,
 "nbformat_minor": 5
}
